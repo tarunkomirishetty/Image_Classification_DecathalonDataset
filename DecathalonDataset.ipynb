{
 "cells": [
  {
   "cell_type": "code",
   "execution_count": 78,
   "id": "e2ef456b",
   "metadata": {},
   "outputs": [],
   "source": [
    "import numpy as np\n",
    "import matplotlib.pyplot as plt\n",
    "import os\n",
    "import cv2\n",
    "import random\n",
    "import keras"
   ]
  },
  {
   "cell_type": "code",
   "execution_count": 40,
   "id": "ea8640c9",
   "metadata": {},
   "outputs": [],
   "source": [
    "DATADIR = \"C:/Users/TarunKomirishetty/Desktop/2nd Semester/AIT 636 Interpretable Machine Learning/Python codes/Visual Domain Decathlon (Subset)/train\"\n",
    "CATEGORIES = ['0001','0002','0003','0004','0005','0006','0007','0008','0009','0010']\n",
    "# path = os.path.join(DATADIR, category)\n",
    "# print(path)"
   ]
  },
  {
   "cell_type": "code",
   "execution_count": 22,
   "id": "06ac325f",
   "metadata": {},
   "outputs": [],
   "source": [
    "IMG_SIZE = 50\n",
    "new_array = cv2.resize(img_array,(IMG_SIZE,IMG_SIZE))"
   ]
  },
  {
   "cell_type": "code",
   "execution_count": 68,
   "id": "3e1538fe",
   "metadata": {},
   "outputs": [],
   "source": [
    "training_data = []\n",
    "\n",
    "def create_training_data():\n",
    "    for category in CATEGORIES: \n",
    "        path = os.path.join(DATADIR, category)\n",
    "        class_num = CATEGORIES.index(category)\n",
    "        for img in os.listdir(path):\n",
    "            img_array=cv2.imread(os.path.join(path,img))\n",
    "            new_array = cv2.resize(img_array,(IMG_SIZE,IMG_SIZE))\n",
    "            training_data.append([new_array,class_num])\n",
    "\n",
    "create_training_data()\n",
    "\n",
    "random.shuffle(training_data)\n",
    "X_train = []\n",
    "y_train = []\n",
    "for features, label in training_data:\n",
    "    X_train.append(features)\n",
    "    y_train.append(label)\n",
    "X_train = np.array(X_train).reshape(-1,IMG_SIZE,IMG_SIZE,3)\n",
    "y_train = np.array(y_train)\n",
    "\n"
   ]
  },
  {
   "cell_type": "code",
   "execution_count": 70,
   "id": "c9b20e63",
   "metadata": {},
   "outputs": [],
   "source": [
    "np.save(\"C:/Users/TarunKomirishetty/Desktop/2nd Semester/AIT 636 Interpretable Machine Learning/Python codes/Visual Domain Decathlon (Subset)/X_train\",\n",
    "       X_train)\n",
    "np.save(\"C:/Users/TarunKomirishetty/Desktop/2nd Semester/AIT 636 Interpretable Machine Learning/Python codes/Visual Domain Decathlon (Subset)/y_train\",\n",
    "       y_train)"
   ]
  },
  {
   "cell_type": "code",
   "execution_count": 71,
   "id": "30bec390",
   "metadata": {},
   "outputs": [],
   "source": [
    "DATADIR = \"C:/Users/TarunKomirishetty/Desktop/2nd Semester/AIT 636 Interpretable Machine Learning/Python codes/Visual Domain Decathlon (Subset)/test\"\n",
    "testing_data = []\n",
    "\n",
    "def create_testing_data():\n",
    "    for category in CATEGORIES: \n",
    "        path = os.path.join(DATADIR, category)\n",
    "        class_num = CATEGORIES.index(category)\n",
    "        for img in os.listdir(path):\n",
    "            img_array=cv2.imread(os.path.join(path,img))\n",
    "            new_array = cv2.resize(img_array,(IMG_SIZE,IMG_SIZE))\n",
    "            testing_data.append([new_array,class_num])\n",
    "\n",
    "create_testing_data()\n",
    "\n",
    "random.shuffle(testing_data)\n",
    "X_test = []\n",
    "y_test = []\n",
    "for features, label in testing_data:\n",
    "    X_test.append(features)\n",
    "    y_test.append(label)\n",
    "X_test = np.array(X_test).reshape(-1,IMG_SIZE,IMG_SIZE,3)\n",
    "y_test = np.array(y_test)\n"
   ]
  },
  {
   "cell_type": "code",
   "execution_count": 72,
   "id": "9443cc97",
   "metadata": {},
   "outputs": [],
   "source": [
    "np.save(\"C:/Users/TarunKomirishetty/Desktop/2nd Semester/AIT 636 Interpretable Machine Learning/Python codes/Visual Domain Decathlon (Subset)/X_test\",\n",
    "       X_test)\n",
    "np.save(\"C:/Users/TarunKomirishetty/Desktop/2nd Semester/AIT 636 Interpretable Machine Learning/Python codes/Visual Domain Decathlon (Subset)/y_test\",\n",
    "       y_test)"
   ]
  },
  {
   "cell_type": "code",
   "execution_count": 85,
   "id": "c7c3daba",
   "metadata": {},
   "outputs": [],
   "source": [
    "img_size = IMG_SIZE\n",
    "num_epochs = 10\n",
    "batch_size = 160"
   ]
  },
  {
   "cell_type": "code",
   "execution_count": 86,
   "id": "3f3bd099",
   "metadata": {},
   "outputs": [],
   "source": [
    "#Normalize pixel values to be between 0 and 1\n",
    "train_images, test_images = X_train / 255.0, X_test / 255.0"
   ]
  },
  {
   "cell_type": "code",
   "execution_count": 87,
   "id": "1f8a7deb",
   "metadata": {},
   "outputs": [],
   "source": [
    "train_labels = y_train\n",
    "test_labels = y_test"
   ]
  },
  {
   "cell_type": "code",
   "execution_count": 88,
   "id": "b1431d84",
   "metadata": {},
   "outputs": [],
   "source": [
    "# Create the convolutional base\n",
    "# The lines of code below define the convolutional base using a common pattern: a stack of Conv2D and MaxPooling2D layers.\n",
    "# As input, a CNN takes tensors of shape (image_height, image_width, color_channels).\n",
    "# In this example, you will configure your CNN to process inputs of shape (32, 32, 3), which is the format of CIFAR images. You can do this by passing the argument input_shape to your first layer.\n",
    "model = keras.models.Sequential()\n",
    "model.add(keras.layers.Conv2D(filters=32, # The number of output filters or output channels in the convolution layer, e.g. 32 or 64\n",
    "                              kernel_size=(3, 3), # The height and width of the 2D convolution/filter window, e.g.(3, 3)\n",
    "                              strides=(1, 1), # The steps of the convolution or pooling window along the height and width\n",
    "                              padding='same', # {'valid', 'same'}.\n",
    "                              # If padding='same', the image will be padded with zeros whenever the convolution window steps outside of the image.\n",
    "                              # When padding='valid', the input image is not padded. This means that the filter window always stays inside the input image. This type of padding is called valid because for this padding only the valid and original elements of the input image are considered.\n",
    "                              activation='relu', # {'relu', 'sigmoid', 'softmax', 'softplus', 'softsign', 'tanh', 'selu', 'elu', 'exponential'} https://keras.io/api/layers/activations/\n",
    "                              input_shape=(img_size, img_size, 3))) # The dimensions of the input images: (height, width, number of channels).\n",
    "model.add(keras.layers.MaxPooling2D(pool_size=(2, 2), strides=(2, 2), padding='same'))\n",
    "model.add(keras.layers.Conv2D(filters=64, kernel_size=(3, 3), strides=(1, 1), padding='same', activation='relu')) # Typically, as the width and height shrink, you can afford (computationally) to add more output channels in each Conv2D layer.\n",
    "model.add(keras.layers.MaxPooling2D(pool_size=(2, 2), strides=(2, 2), padding='same'))\n",
    "model.add(keras.layers.Conv2D(filters=64, kernel_size=(3, 3), strides=(1, 1), padding='same', activation='relu'))\n",
    "model.add(keras.layers.MaxPooling2D(pool_size=(2, 2), strides=(2, 2), padding='same'))"
   ]
  },
  {
   "cell_type": "code",
   "execution_count": 89,
   "id": "034511eb",
   "metadata": {},
   "outputs": [],
   "source": [
    "model.add(keras.layers.Flatten())\n",
    "model.add(keras.layers.Dense(units=64, activation='relu'))\n",
    "model.add(keras.layers.Dense(units=10))"
   ]
  },
  {
   "cell_type": "code",
   "execution_count": 90,
   "id": "5d3540f1",
   "metadata": {},
   "outputs": [
    {
     "name": "stdout",
     "output_type": "stream",
     "text": [
      "Model: \"sequential_1\"\n",
      "_________________________________________________________________\n",
      " Layer (type)                Output Shape              Param #   \n",
      "=================================================================\n",
      " conv2d_3 (Conv2D)           (None, 50, 50, 32)        896       \n",
      "                                                                 \n",
      " max_pooling2d_3 (MaxPooling  (None, 25, 25, 32)       0         \n",
      " 2D)                                                             \n",
      "                                                                 \n",
      " conv2d_4 (Conv2D)           (None, 25, 25, 64)        18496     \n",
      "                                                                 \n",
      " max_pooling2d_4 (MaxPooling  (None, 13, 13, 64)       0         \n",
      " 2D)                                                             \n",
      "                                                                 \n",
      " conv2d_5 (Conv2D)           (None, 13, 13, 64)        36928     \n",
      "                                                                 \n",
      " max_pooling2d_5 (MaxPooling  (None, 7, 7, 64)         0         \n",
      " 2D)                                                             \n",
      "                                                                 \n",
      " flatten_1 (Flatten)         (None, 3136)              0         \n",
      "                                                                 \n",
      " dense_2 (Dense)             (None, 64)                200768    \n",
      "                                                                 \n",
      " dense_3 (Dense)             (None, 10)                650       \n",
      "                                                                 \n",
      "=================================================================\n",
      "Total params: 257,738\n",
      "Trainable params: 257,738\n",
      "Non-trainable params: 0\n",
      "_________________________________________________________________\n"
     ]
    }
   ],
   "source": [
    "model.summary()"
   ]
  },
  {
   "cell_type": "code",
   "execution_count": 91,
   "id": "95caf674",
   "metadata": {},
   "outputs": [
    {
     "name": "stdout",
     "output_type": "stream",
     "text": [
      "Epoch 1/10\n",
      "79/79 [==============================] - 34s 418ms/step - loss: 1.7443 - accuracy: 0.3262 - val_loss: 1.6373 - val_accuracy: 0.4020\n",
      "Epoch 2/10\n",
      "79/79 [==============================] - 35s 443ms/step - loss: 1.4521 - accuracy: 0.4548 - val_loss: 1.3838 - val_accuracy: 0.4980\n",
      "Epoch 3/10\n",
      "79/79 [==============================] - 37s 472ms/step - loss: 1.3105 - accuracy: 0.5100 - val_loss: 1.3189 - val_accuracy: 0.5061\n",
      "Epoch 4/10\n",
      "79/79 [==============================] - 36s 458ms/step - loss: 1.2128 - accuracy: 0.5461 - val_loss: 1.2652 - val_accuracy: 0.5327\n",
      "Epoch 5/10\n",
      "79/79 [==============================] - 35s 446ms/step - loss: 1.1440 - accuracy: 0.5697 - val_loss: 1.2282 - val_accuracy: 0.5633\n",
      "Epoch 6/10\n",
      "79/79 [==============================] - 35s 449ms/step - loss: 1.0836 - accuracy: 0.6011 - val_loss: 1.1874 - val_accuracy: 0.5714\n",
      "Epoch 7/10\n",
      "79/79 [==============================] - 36s 452ms/step - loss: 1.0315 - accuracy: 0.6171 - val_loss: 1.1512 - val_accuracy: 0.5959\n",
      "Epoch 8/10\n",
      "79/79 [==============================] - 37s 467ms/step - loss: 0.9719 - accuracy: 0.6383 - val_loss: 1.1634 - val_accuracy: 0.5714\n",
      "Epoch 9/10\n",
      "79/79 [==============================] - 36s 454ms/step - loss: 0.9343 - accuracy: 0.6550 - val_loss: 1.1223 - val_accuracy: 0.6143\n",
      "Epoch 10/10\n",
      "79/79 [==============================] - 36s 457ms/step - loss: 0.8874 - accuracy: 0.6729 - val_loss: 1.1399 - val_accuracy: 0.5898\n"
     ]
    }
   ],
   "source": [
    "model.compile(optimizer='adam', # You can find different optimizers here: https://www.tensorflow.org/api_docs/python/tf/keras/optimizers\n",
    "              loss=keras.losses.SparseCategoricalCrossentropy(from_logits=True), # Loss function. You can find different loss functions here: https://www.tensorflow.org/api_docs/python/tf/keras/losses\n",
    "              metrics=['accuracy']) # List of metrics to be evaluated by the model during training and testing.\n",
    "history = model.fit(x=train_images, y=train_labels, batch_size=batch_size, # batch_size is the number of samples per gradient update.\n",
    "                    epochs=num_epochs, # The number of training iterations over the entire x and y data\n",
    "                    validation_data=(test_images, test_labels),\n",
    "                    verbose=1) #By setting verbose 0, 1 or 2 you just say how you want to see the training progress for each epoch.\n"
   ]
  },
  {
   "cell_type": "code",
   "execution_count": 92,
   "id": "19220e52",
   "metadata": {},
   "outputs": [
    {
     "name": "stdout",
     "output_type": "stream",
     "text": [
      "16/16 - 0s - loss: 1.1399 - accuracy: 0.5898 - 339ms/epoch - 21ms/step\n",
      "Test accuracy is:  0.5897959470748901\n"
     ]
    }
   ],
   "source": [
    "# Evaluate the model\n",
    "test_loss, test_acc = model.evaluate(test_images,  test_labels, verbose=2)\n",
    "print('Test accuracy is: ', test_acc)\n"
   ]
  },
  {
   "cell_type": "code",
   "execution_count": 93,
   "id": "531d073a",
   "metadata": {},
   "outputs": [
    {
     "name": "stdout",
     "output_type": "stream",
     "text": [
      "16/16 [==============================] - 0s 22ms/step\n"
     ]
    }
   ],
   "source": [
    "# Make Predictions\n",
    "predictions = model.predict(test_images)"
   ]
  },
  {
   "cell_type": "code",
   "execution_count": 94,
   "id": "933e809f",
   "metadata": {},
   "outputs": [
    {
     "name": "stdout",
     "output_type": "stream",
     "text": [
      "(490, 10)\n"
     ]
    },
    {
     "data": {
      "text/plain": [
       "array([ 5.101462  , -2.1776383 , -1.3822049 , -2.4725292 , -0.8214763 ,\n",
       "        0.07219671,  0.5481863 , -0.3609566 ,  2.571584  ,  1.3969865 ],\n",
       "      dtype=float32)"
      ]
     },
     "execution_count": 94,
     "metadata": {},
     "output_type": "execute_result"
    }
   ],
   "source": [
    "print(predictions.shape)\n",
    "predictions[0]"
   ]
  },
  {
   "cell_type": "code",
   "execution_count": 95,
   "id": "f458d650",
   "metadata": {},
   "outputs": [
    {
     "data": {
      "text/plain": [
       "0"
      ]
     },
     "execution_count": 95,
     "metadata": {},
     "output_type": "execute_result"
    }
   ],
   "source": [
    "y_pred = [np.argmax(element) for element in predictions]\n",
    "y_pred[0]"
   ]
  },
  {
   "cell_type": "code",
   "execution_count": 97,
   "id": "f0ef10db",
   "metadata": {},
   "outputs": [
    {
     "name": "stdout",
     "output_type": "stream",
     "text": [
      "              precision    recall  f1-score   support\n",
      "\n",
      "        0001       0.77      0.94      0.84        49\n",
      "        0002       0.90      0.92      0.91        49\n",
      "        0003       0.67      0.49      0.56        49\n",
      "        0004       0.45      0.35      0.39        49\n",
      "        0005       0.36      0.45      0.40        49\n",
      "        0006       0.75      0.31      0.43        49\n",
      "        0007       0.41      0.53      0.46        49\n",
      "        0008       0.76      0.59      0.67        49\n",
      "        0009       0.50      0.49      0.49        49\n",
      "        0010       0.55      0.84      0.66        49\n",
      "\n",
      "    accuracy                           0.59       490\n",
      "   macro avg       0.61      0.59      0.58       490\n",
      "weighted avg       0.61      0.59      0.58       490\n",
      "\n"
     ]
    }
   ],
   "source": [
    "from sklearn.metrics import classification_report, confusion_matrix\n",
    "print(classification_report(y_true=test_labels, y_pred=y_pred, target_names=CATEGORIES, zero_division=0))"
   ]
  },
  {
   "cell_type": "code",
   "execution_count": 108,
   "id": "dc56b9b4",
   "metadata": {},
   "outputs": [],
   "source": [
    "def plot_sample(X, y, index):\n",
    "    print(\"Prediced Category is : \",CATEGORIES[y_pred[index]])\n",
    "    plt.figure(figsize=(15,2))\n",
    "    plt.imshow(X[index])\n",
    "    plt.xlabel(CATEGORIES[y[index]])"
   ]
  },
  {
   "cell_type": "code",
   "execution_count": 110,
   "id": "0d25dad9",
   "metadata": {},
   "outputs": [
    {
     "name": "stdout",
     "output_type": "stream",
     "text": [
      "Prediced Category is :  0008\n"
     ]
    },
    {
     "data": {
      "image/png": "[encoded data removed]",
      "text/plain": [
       "<Figure size 1500x200 with 1 Axes>"
      ]
     },
     "metadata": {},
     "output_type": "display_data"
    }
   ],
   "source": [
    "plot_sample(test_images,test_labels,100)"
   ]
  },
  {
   "cell_type": "code",
   "execution_count": null,
   "id": "3ae4a3a9",
   "metadata": {},
   "outputs": [],
   "source": []
  }
 ],
 "metadata": {
  "kernelspec": {
   "display_name": "Python 3 (ipykernel)",
   "language": "python",
   "name": "python3"
  },
  "language_info": {
   "codemirror_mode": {
    "name": "ipython",
    "version": 3
   },
   "file_extension": ".py",
   "mimetype": "text/x-python",
   "name": "python",
   "nbconvert_exporter": "python",
   "pygments_lexer": "ipython3",
   "version": "3.11.0"
  }
 },
 "nbformat": 4,
 "nbformat_minor": 5
}
